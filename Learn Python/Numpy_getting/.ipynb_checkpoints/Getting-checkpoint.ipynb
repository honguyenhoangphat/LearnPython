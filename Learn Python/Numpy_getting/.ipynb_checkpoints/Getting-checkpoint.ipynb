{
 "cells": [
  {
   "cell_type": "code",
   "execution_count": 1,
   "id": "9e3a2b6e-4d5e-4165-9d9f-77e101867a03",
   "metadata": {},
   "outputs": [],
   "source": [
    "import numpy as np"
   ]
  },
  {
   "cell_type": "code",
   "execution_count": 2,
   "id": "80029ac1-6975-4c65-8148-630d4779effd",
   "metadata": {},
   "outputs": [
    {
     "data": {
      "text/plain": [
       "array([1, 2, 3, 4])"
      ]
     },
     "execution_count": 2,
     "metadata": {},
     "output_type": "execute_result"
    }
   ],
   "source": [
    "np.array([1,2,3,4])"
   ]
  },
  {
   "cell_type": "code",
   "execution_count": 3,
   "id": "6c41f224-fb4c-4dcd-a22f-eecce6d432ee",
   "metadata": {},
   "outputs": [],
   "source": [
    "a = np.array([\n",
    "    [1,2,3,4],\n",
    "    [1,3,5,7],\n",
    "    [19,10,6,9]]\n",
    ")"
   ]
  },
  {
   "cell_type": "code",
   "execution_count": 4,
   "id": "f487fa28-8635-4abb-ac4b-e1c91f7301a2",
   "metadata": {},
   "outputs": [
    {
     "data": {
      "text/plain": [
       "2"
      ]
     },
     "execution_count": 4,
     "metadata": {},
     "output_type": "execute_result"
    }
   ],
   "source": [
    "a.ndim # Số chiều của mảng -- ở đây là 2 chiều"
   ]
  },
  {
   "cell_type": "code",
   "execution_count": 5,
   "id": "eddb48ca-8381-4c38-bd0c-9674429af16a",
   "metadata": {},
   "outputs": [
    {
     "data": {
      "text/plain": [
       "12"
      ]
     },
     "execution_count": 5,
     "metadata": {},
     "output_type": "execute_result"
    }
   ],
   "source": [
    "a.size"
   ]
  },
  {
   "cell_type": "markdown",
   "id": "fafa9c3b-d7da-4012-899e-a5f0d5ff5c95",
   "metadata": {},
   "source": [
    "## Creating Numpy Arrays from Scratch\n",
    "### zeros, ones, full, arange, linspace"
   ]
  },
  {
   "cell_type": "code",
   "execution_count": 6,
   "id": "fdcd2699-2c80-4219-b5e4-c347fd01ad50",
   "metadata": {},
   "outputs": [
    {
     "data": {
      "text/plain": [
       "array([[0, 0, 0, 0],\n",
       "       [0, 0, 0, 0]])"
      ]
     },
     "execution_count": 6,
     "metadata": {},
     "output_type": "execute_result"
    }
   ],
   "source": [
    "np.zeros([2,4],dtype = int)"
   ]
  },
  {
   "cell_type": "code",
   "execution_count": 7,
   "id": "4621cea5-dc7d-41a1-8008-0509ae1ecf94",
   "metadata": {},
   "outputs": [
    {
     "data": {
      "text/plain": [
       "array([[1, 1, 1, 1, 1, 1],\n",
       "       [1, 1, 1, 1, 1, 1]])"
      ]
     },
     "execution_count": 7,
     "metadata": {},
     "output_type": "execute_result"
    }
   ],
   "source": [
    "np.ones([2,6],dtype = int)"
   ]
  },
  {
   "cell_type": "code",
   "execution_count": 8,
   "id": "1ee83288-cdd8-4d0c-8aa6-92ee548dd1e4",
   "metadata": {},
   "outputs": [
    {
     "data": {
      "text/plain": [
       "array([[1., 1., 1., 1., 1.],\n",
       "       [1., 1., 1., 1., 1.],\n",
       "       [1., 1., 1., 1., 1.],\n",
       "       [1., 1., 1., 1., 1.]])"
      ]
     },
     "execution_count": 8,
     "metadata": {},
     "output_type": "execute_result"
    }
   ],
   "source": [
    "s = (4,5)\n",
    "np.ones(s)"
   ]
  },
  {
   "cell_type": "code",
   "execution_count": 9,
   "id": "34389352-6290-43e4-a8f5-8f836512997e",
   "metadata": {},
   "outputs": [
    {
     "data": {
      "text/plain": [
       "array([ 0,  4,  8, 12, 16, 20, 24, 28, 32, 36])"
      ]
     },
     "execution_count": 9,
     "metadata": {},
     "output_type": "execute_result"
    }
   ],
   "source": [
    "np.arange(0,40,4)"
   ]
  },
  {
   "cell_type": "code",
   "execution_count": 10,
   "id": "2ec9f485-f936-4d05-b09a-b0bf204efdaf",
   "metadata": {},
   "outputs": [
    {
     "data": {
      "text/plain": [
       "array([[7, 7, 7],\n",
       "       [7, 7, 7]])"
      ]
     },
     "execution_count": 10,
     "metadata": {},
     "output_type": "execute_result"
    }
   ],
   "source": [
    "np.full((2,3), 7)"
   ]
  },
  {
   "cell_type": "markdown",
   "id": "9b50993c-fcab-4359-9d13-ae17e5c6fcd4",
   "metadata": {},
   "source": [
    "#### Linspace Tạo một array gồm vài số giữa hai khoảng"
   ]
  },
  {
   "cell_type": "code",
   "execution_count": 11,
   "id": "3d81385d-221f-4a35-b929-61897292b77e",
   "metadata": {},
   "outputs": [
    {
     "data": {
      "text/plain": [
       "array([ 0. ,  2.5,  5. ,  7.5, 10. ])"
      ]
     },
     "execution_count": 11,
     "metadata": {},
     "output_type": "execute_result"
    }
   ],
   "source": [
    "np.linspace(0,10,5,dtype = float)"
   ]
  },
  {
   "cell_type": "markdown",
   "id": "b48d4320-f9ae-48c3-984a-94ef8d9cf0f1",
   "metadata": {},
   "source": [
    "### Random"
   ]
  },
  {
   "cell_type": "code",
   "execution_count": 12,
   "id": "b2fd3e57-f50b-4c49-a6f8-72e10ee2e881",
   "metadata": {},
   "outputs": [
    {
     "data": {
      "text/plain": [
       "array([[0.5488135 , 0.71518937, 0.60276338],\n",
       "       [0.54488318, 0.4236548 , 0.64589411],\n",
       "       [0.43758721, 0.891773  , 0.96366276],\n",
       "       [0.38344152, 0.79172504, 0.52889492]])"
      ]
     },
     "execution_count": 12,
     "metadata": {},
     "output_type": "execute_result"
    }
   ],
   "source": [
    "np.random.seed(0)\n",
    "np.random.random((4,3))"
   ]
  },
  {
   "cell_type": "markdown",
   "id": "30eaa273-286d-4a73-9377-a65fd32ce926",
   "metadata": {},
   "source": [
    "Nhưng mỗi lần chạy thì các số sẽ nhảy khác nhau, vì vậy cần hàm để lưu giá trị này lại khi ta cần để không bị nhảy số nữa."
   ]
  },
  {
   "cell_type": "code",
   "execution_count": 13,
   "id": "0568c27a-740f-4284-a003-cbcaf538161e",
   "metadata": {},
   "outputs": [
    {
     "data": {
      "text/plain": [
       "array([[1.76103773, 1.12167502, 1.44386323],\n",
       "       [1.33367433, 2.49407907, 0.79484174]])"
      ]
     },
     "execution_count": 13,
     "metadata": {},
     "output_type": "execute_result"
    }
   ],
   "source": [
    "np.random.normal(1,1, (2,3))"
   ]
  },
  {
   "cell_type": "markdown",
   "id": "94ef7868-4872-44cb-a5b7-b0db39b1b934",
   "metadata": {},
   "source": [
    "## ARRAY INDEXING & SLICING\n",
    "### One-dimensional subbarray"
   ]
  },
  {
   "cell_type": "code",
   "execution_count": 14,
   "id": "db8b1fbb-db2c-4c25-b034-16c8e573d916",
   "metadata": {},
   "outputs": [],
   "source": [
    "x1 = np.random.randint(1, 21, size = 8)"
   ]
  },
  {
   "cell_type": "code",
   "execution_count": 15,
   "id": "5ff90dea-98ea-4979-9d49-b34df164442f",
   "metadata": {},
   "outputs": [
    {
     "data": {
      "text/plain": [
       "array([15,  8,  1,  2, 10,  1, 11,  4])"
      ]
     },
     "execution_count": 15,
     "metadata": {},
     "output_type": "execute_result"
    }
   ],
   "source": [
    "x1"
   ]
  },
  {
   "cell_type": "code",
   "execution_count": 16,
   "id": "2dbd742a-be33-4fe4-9326-517245b71f88",
   "metadata": {},
   "outputs": [
    {
     "data": {
      "text/plain": [
       "(15, 8, 4)"
      ]
     },
     "execution_count": 16,
     "metadata": {},
     "output_type": "execute_result"
    }
   ],
   "source": [
    "x1[0], x1[1], x1[-1]"
   ]
  },
  {
   "cell_type": "markdown",
   "id": "4784eb87-3694-4dd2-97e2-3010a5aca47a",
   "metadata": {},
   "source": [
    "### Multi-dimensional subbarray"
   ]
  },
  {
   "cell_type": "code",
   "execution_count": 17,
   "id": "af30381a-de24-41b7-a2d0-5a107c075dc6",
   "metadata": {},
   "outputs": [],
   "source": [
    "x2 = np.random.randint(10, size = (2,3))"
   ]
  },
  {
   "cell_type": "code",
   "execution_count": 18,
   "id": "1aa34946-f925-417b-8398-edea2359e0b4",
   "metadata": {},
   "outputs": [
    {
     "data": {
      "text/plain": [
       "array([[2, 7, 2],\n",
       "       [0, 0, 4]])"
      ]
     },
     "execution_count": 18,
     "metadata": {},
     "output_type": "execute_result"
    }
   ],
   "source": [
    "x2"
   ]
  },
  {
   "cell_type": "code",
   "execution_count": 19,
   "id": "a7c3fdaa-43a8-4f86-8ee3-cd8cac6add25",
   "metadata": {},
   "outputs": [
    {
     "data": {
      "text/plain": [
       "4"
      ]
     },
     "execution_count": 19,
     "metadata": {},
     "output_type": "execute_result"
    }
   ],
   "source": [
    "x2[1,2]"
   ]
  },
  {
   "cell_type": "code",
   "execution_count": 20,
   "id": "c79b68c7-c266-4c08-83ae-5bca7d3d9bc4",
   "metadata": {},
   "outputs": [],
   "source": [
    "x2[1,2] = 1"
   ]
  },
  {
   "cell_type": "code",
   "execution_count": 21,
   "id": "b3837390-dc0c-4e6d-b85e-31fff15a0363",
   "metadata": {},
   "outputs": [
    {
     "data": {
      "text/plain": [
       "1"
      ]
     },
     "execution_count": 21,
     "metadata": {},
     "output_type": "execute_result"
    }
   ],
   "source": [
    "x2[1,2] "
   ]
  },
  {
   "cell_type": "markdown",
   "id": "3549781b-387e-47f1-979d-a4abb341bd29",
   "metadata": {},
   "source": [
    "### Slicing:\n",
    "x[start:Stop:step]"
   ]
  },
  {
   "cell_type": "code",
   "execution_count": 22,
   "id": "ad68db19-adcd-4647-92d4-3c19e18932b4",
   "metadata": {},
   "outputs": [
    {
     "data": {
      "text/plain": [
       "array([15,  8,  1,  2, 10,  1, 11,  4])"
      ]
     },
     "execution_count": 22,
     "metadata": {},
     "output_type": "execute_result"
    }
   ],
   "source": [
    "x1"
   ]
  },
  {
   "cell_type": "code",
   "execution_count": 23,
   "id": "a469285a-5fbd-4930-a75d-65a96ec1a68c",
   "metadata": {},
   "outputs": [
    {
     "data": {
      "text/plain": [
       "array([15,  8,  1])"
      ]
     },
     "execution_count": 23,
     "metadata": {},
     "output_type": "execute_result"
    }
   ],
   "source": [
    "x1[0:3]"
   ]
  },
  {
   "cell_type": "code",
   "execution_count": 24,
   "id": "c0f4c6cb-1572-473c-bb3a-e138d1244c43",
   "metadata": {},
   "outputs": [
    {
     "data": {
      "text/plain": [
       "array([ 1, 11,  4])"
      ]
     },
     "execution_count": 24,
     "metadata": {},
     "output_type": "execute_result"
    }
   ],
   "source": [
    "x1[5::]"
   ]
  },
  {
   "cell_type": "code",
   "execution_count": 25,
   "id": "28c1db09-09d0-429e-ad4c-1b14d7764570",
   "metadata": {},
   "outputs": [
    {
     "data": {
      "text/plain": [
       "array([[2, 7, 2],\n",
       "       [0, 0, 1]])"
      ]
     },
     "execution_count": 25,
     "metadata": {},
     "output_type": "execute_result"
    }
   ],
   "source": [
    "x2"
   ]
  },
  {
   "cell_type": "code",
   "execution_count": 26,
   "id": "0f7285e3-f9e9-455b-9d32-5a893a5e2422",
   "metadata": {},
   "outputs": [
    {
     "data": {
      "text/plain": [
       "array([[2, 7],\n",
       "       [0, 0]])"
      ]
     },
     "execution_count": 26,
     "metadata": {},
     "output_type": "execute_result"
    }
   ],
   "source": [
    "x2[:2,:2] #Lay 2 dong va 2 cot"
   ]
  },
  {
   "cell_type": "markdown",
   "id": "a7a15d3f-6851-4b94-9974-f5c54d59d1ce",
   "metadata": {},
   "source": [
    "### Reshaping of Arrays & Transpose \n",
    "Chuyen np sang hinh dang khac"
   ]
  },
  {
   "cell_type": "code",
   "execution_count": 30,
   "id": "13341afe-5c11-4cd9-9432-2b965d3d3de5",
   "metadata": {},
   "outputs": [
    {
     "data": {
      "text/plain": [
       "(10,)"
      ]
     },
     "execution_count": 30,
     "metadata": {},
     "output_type": "execute_result"
    }
   ],
   "source": [
    "grid = np.arange(1,11)\n",
    "grid.shape"
   ]
  },
  {
   "cell_type": "code",
   "execution_count": 31,
   "id": "54ad54fa-8850-4e20-b084-f5e368f1a603",
   "metadata": {},
   "outputs": [
    {
     "data": {
      "text/plain": [
       "array([[ 1,  2,  3,  4,  5],\n",
       "       [ 6,  7,  8,  9, 10]])"
      ]
     },
     "execution_count": 31,
     "metadata": {},
     "output_type": "execute_result"
    }
   ],
   "source": [
    "grid.reshape((2,5))"
   ]
  },
  {
   "cell_type": "code",
   "execution_count": 35,
   "id": "e42367f3-6293-4a22-aedf-5a20ac47e70d",
   "metadata": {},
   "outputs": [],
   "source": [
    "x = np.array([1,2,3,4])"
   ]
  },
  {
   "cell_type": "code",
   "execution_count": 36,
   "id": "b11509a5-1341-43cb-a7ec-4a23e259d469",
   "metadata": {},
   "outputs": [
    {
     "data": {
      "text/plain": [
       "(4,)"
      ]
     },
     "execution_count": 36,
     "metadata": {},
     "output_type": "execute_result"
    }
   ],
   "source": [
    "x.shape"
   ]
  },
  {
   "cell_type": "code",
   "execution_count": 38,
   "id": "54677cdb-9089-4623-9a45-4ab24a9aaacb",
   "metadata": {},
   "outputs": [
    {
     "data": {
      "text/plain": [
       "array([[1, 2],\n",
       "       [3, 4]])"
      ]
     },
     "execution_count": 38,
     "metadata": {},
     "output_type": "execute_result"
    }
   ],
   "source": [
    "x.reshape((2,2))"
   ]
  },
  {
   "cell_type": "code",
   "execution_count": 40,
   "id": "26ae5804-0017-4658-9c94-84bbdfd12ea3",
   "metadata": {},
   "outputs": [
    {
     "data": {
      "text/plain": [
       "(1, 4)"
      ]
     },
     "execution_count": 40,
     "metadata": {},
     "output_type": "execute_result"
    }
   ],
   "source": [
    "x.reshape((1,4)).shape"
   ]
  },
  {
   "cell_type": "markdown",
   "id": "10f2a774-10b0-4584-acf4-a664d37cbda0",
   "metadata": {},
   "source": [
    "Transpose Chuyen HANG thanh COT"
   ]
  },
  {
   "cell_type": "code",
   "execution_count": 52,
   "id": "eb16e6fe-2f76-45d9-a427-b00c2a4dbc07",
   "metadata": {},
   "outputs": [
    {
     "data": {
      "text/plain": [
       "array([[ 6, 12, 15],\n",
       "       [ 4,  4,  3],\n",
       "       [15,  8, 15],\n",
       "       [ 3, 14, 13]])"
      ]
     },
     "execution_count": 52,
     "metadata": {},
     "output_type": "execute_result"
    }
   ],
   "source": [
    "c = np.random.randint(20, size = (3,4)) # 3 hang 4 cot -> 4 hang 3 cot\n",
    "c.T"
   ]
  },
  {
   "cell_type": "markdown",
   "id": "be01bb6c-a88b-4c81-8cf4-d90035fc9926",
   "metadata": {},
   "source": [
    "#### Array Concatenation and Splitting"
   ]
  },
  {
   "cell_type": "code",
   "execution_count": 53,
   "id": "889c1de9-69a6-42af-b81f-eb3cfbe0dfcd",
   "metadata": {},
   "outputs": [],
   "source": [
    "x = np.array([1,2,3])\n",
    "y = np.array([7,8,9])"
   ]
  },
  {
   "cell_type": "code",
   "execution_count": 55,
   "id": "0630c135-623e-483e-9f83-ac6a21c258de",
   "metadata": {},
   "outputs": [
    {
     "data": {
      "text/plain": [
       "array([1, 2, 3, 7, 8, 9])"
      ]
     },
     "execution_count": 55,
     "metadata": {},
     "output_type": "execute_result"
    }
   ],
   "source": [
    "np.concatenate((x,y))"
   ]
  },
  {
   "cell_type": "code",
   "execution_count": 62,
   "id": "f2b7a71d-aeab-4dfd-bc92-e1d3e20e6f73",
   "metadata": {},
   "outputs": [
    {
     "data": {
      "text/plain": [
       "array([[1, 2, 3],\n",
       "       [4, 5, 7],\n",
       "       [1, 5, 8]])"
      ]
     },
     "execution_count": 62,
     "metadata": {},
     "output_type": "execute_result"
    }
   ],
   "source": [
    "da = np.array([[1,2,3],\n",
    "             [4,5,7],\n",
    "             [1,5,8]])\n",
    "da"
   ]
  },
  {
   "cell_type": "code",
   "execution_count": 63,
   "id": "1e22eae7-138c-418b-be21-569c289b9d85",
   "metadata": {},
   "outputs": [
    {
     "data": {
      "text/plain": [
       "array([[1, 2, 3, 1, 2, 3],\n",
       "       [4, 5, 7, 4, 5, 7],\n",
       "       [1, 5, 8, 1, 5, 8]])"
      ]
     },
     "execution_count": 63,
     "metadata": {},
     "output_type": "execute_result"
    }
   ],
   "source": [
    "np.concatenate((da,da), axis =1 #axis = 0 by default: mặc định nối theo chiều ngang"
   ]
  },
  {
   "cell_type": "code",
   "execution_count": 64,
   "id": "92dd0c6a-927d-4626-8efd-e63cdeaed5b3",
   "metadata": {},
   "outputs": [],
   "source": [
    "#vstack \n",
    "x = np.array([1,2,3])\n",
    "y = np.array([[7,8,9],\n",
    "             [4,5,7],\n",
    "             [1,2,3]])"
   ]
  },
  {
   "cell_type": "code",
   "execution_count": 65,
   "id": "577d66a5-de8b-4e71-a9c5-eb061423c87f",
   "metadata": {},
   "outputs": [
    {
     "data": {
      "text/plain": [
       "array([[1, 2, 3],\n",
       "       [7, 8, 9],\n",
       "       [4, 5, 7],\n",
       "       [1, 2, 3]])"
      ]
     },
     "execution_count": 65,
     "metadata": {},
     "output_type": "execute_result"
    }
   ],
   "source": [
    "np.vstack((x,y)) # Nối chiều dọc"
   ]
  },
  {
   "cell_type": "code",
   "execution_count": 71,
   "id": "d84554ab-1431-4a57-8c57-4c29e7a9bac9",
   "metadata": {},
   "outputs": [
    {
     "data": {
      "text/plain": [
       "array([[ 7,  8,  9, 99],\n",
       "       [ 4,  5,  7, 90],\n",
       "       [ 1,  2,  3, 40]])"
      ]
     },
     "execution_count": 71,
     "metadata": {},
     "output_type": "execute_result"
    }
   ],
   "source": [
    "# horizontally stack \n",
    "s = np.array(\n",
    "    [\n",
    "        [99],\n",
    "        [90],\n",
    "        [40]\n",
    "    ]\n",
    ")\n",
    "np.hstack((y,s))"
   ]
  },
  {
   "cell_type": "markdown",
   "id": "af2d67c5-1a27-4b6f-adb2-3be45ed92e54",
   "metadata": {},
   "source": [
    "#### Splitting of arrays"
   ]
  },
  {
   "cell_type": "code",
   "execution_count": 72,
   "id": "fc25c48f-f028-46cd-89ae-5f0a7b24b0b0",
   "metadata": {},
   "outputs": [],
   "source": [
    "x = np.array([1,2,3,10,11,12,5,6,7])"
   ]
  },
  {
   "cell_type": "code",
   "execution_count": 74,
   "id": "5b77e3cc-58d7-4009-bd57-e57f81836926",
   "metadata": {},
   "outputs": [],
   "source": [
    "x1, x2, x3 = np.split(x, [3,6])"
   ]
  },
  {
   "cell_type": "code",
   "execution_count": 75,
   "id": "5b963f5e-dcb9-48be-9db4-2b259dab0eec",
   "metadata": {},
   "outputs": [
    {
     "data": {
      "text/plain": [
       "array([1, 2, 3])"
      ]
     },
     "execution_count": 75,
     "metadata": {},
     "output_type": "execute_result"
    }
   ],
   "source": [
    "x1"
   ]
  },
  {
   "cell_type": "code",
   "execution_count": 76,
   "id": "ee849f3a-4aa8-401b-82d8-086939faaa1e",
   "metadata": {},
   "outputs": [
    {
     "data": {
      "text/plain": [
       "array([10, 11, 12])"
      ]
     },
     "execution_count": 76,
     "metadata": {},
     "output_type": "execute_result"
    }
   ],
   "source": [
    "x2"
   ]
  },
  {
   "cell_type": "code",
   "execution_count": 77,
   "id": "9de1c296-42ab-4fed-8a99-cb77a343c85e",
   "metadata": {},
   "outputs": [
    {
     "data": {
      "text/plain": [
       "array([5, 6, 7])"
      ]
     },
     "execution_count": 77,
     "metadata": {},
     "output_type": "execute_result"
    }
   ],
   "source": [
    "x3"
   ]
  },
  {
   "cell_type": "markdown",
   "id": "620a5b59-97dd-4193-83f5-ce8329056426",
   "metadata": {},
   "source": [
    "## Broadcasting and Vectorized operations\n"
   ]
  },
  {
   "cell_type": "code",
   "execution_count": 78,
   "id": "8ba0d92c-92e8-4afa-8a7c-df98e6e49aa2",
   "metadata": {},
   "outputs": [
    {
     "data": {
      "text/plain": [
       "array([0, 1, 2])"
      ]
     },
     "execution_count": 78,
     "metadata": {},
     "output_type": "execute_result"
    }
   ],
   "source": [
    "a = np.arange(3)\n",
    "a"
   ]
  },
  {
   "cell_type": "code",
   "execution_count": 79,
   "id": "60131fc1-382a-4c71-bea9-5833942633b0",
   "metadata": {},
   "outputs": [
    {
     "data": {
      "text/plain": [
       "array([5, 6, 7])"
      ]
     },
     "execution_count": 79,
     "metadata": {},
     "output_type": "execute_result"
    }
   ],
   "source": [
    "a + 5"
   ]
  },
  {
   "cell_type": "code",
   "execution_count": 84,
   "id": "cfe7e1c4-cbb0-4577-96e2-96a9ddac9cf0",
   "metadata": {},
   "outputs": [],
   "source": [
    "b = np.ones((3,3))"
   ]
  },
  {
   "cell_type": "code",
   "execution_count": 85,
   "id": "3f2c74e2-d7fc-4015-8ba3-d205d4294874",
   "metadata": {},
   "outputs": [
    {
     "data": {
      "text/plain": [
       "array([[1., 2., 3.],\n",
       "       [1., 2., 3.],\n",
       "       [1., 2., 3.]])"
      ]
     },
     "execution_count": 85,
     "metadata": {},
     "output_type": "execute_result"
    }
   ],
   "source": [
    "a + b # Array 3 hàng 3 cột = 1 + a(arange 0 1 2) thì tăng thêm 1 đơn vị"
   ]
  },
  {
   "cell_type": "code",
   "execution_count": 88,
   "id": "7e1cbb27-3146-420f-b226-5f8c7c7ae541",
   "metadata": {},
   "outputs": [
    {
     "data": {
      "text/plain": [
       "array([[0],\n",
       "       [1],\n",
       "       [2]])"
      ]
     },
     "execution_count": 88,
     "metadata": {},
     "output_type": "execute_result"
    }
   ],
   "source": [
    "c = a.reshape((3,1))\n",
    "c"
   ]
  },
  {
   "cell_type": "code",
   "execution_count": 89,
   "id": "535491e9-d136-4265-a03c-794fcf5c2167",
   "metadata": {},
   "outputs": [
    {
     "data": {
      "text/plain": [
       "array([[0, 1, 2],\n",
       "       [1, 2, 3],\n",
       "       [2, 3, 4]])"
      ]
     },
     "execution_count": 89,
     "metadata": {},
     "output_type": "execute_result"
    }
   ],
   "source": [
    "c + a "
   ]
  },
  {
   "attachments": {
    "8712c86c-fbe8-4cd7-b409-b9e68baf1342.png": {
     "image/png": "[encoded data removed]"
    }
   },
   "cell_type": "markdown",
   "id": "0ffaddab-ddc6-4d37-8368-945280da2f4d",
   "metadata": {},
   "source": [
    "Ở dạng này, vì nó khác size nên nó tự nhân đôi thêm nữa. Vì vậy mới ra kết quả đó\n",
    "\n",
    "![image.png](attachment:8712c86c-fbe8-4cd7-b409-b9e68baf1342.png)"
   ]
  },
  {
   "cell_type": "markdown",
   "id": "c793293e-1920-4aa5-abed-acf631556fbe",
   "metadata": {},
   "source": [
    "### Manipulating & Comparing Arrays\n",
    "AGGREGATION\n",
    "Aggregation = performkng the same operation on a number of things"
   ]
  },
  {
   "cell_type": "code",
   "execution_count": 90,
   "id": "a3b5d3c9-1464-4fbb-85c6-36e92a507dd5",
   "metadata": {},
   "outputs": [],
   "source": [
    "list = [10,15,20]"
   ]
  },
  {
   "cell_type": "code",
   "execution_count": 91,
   "id": "16815c0e-a79e-4299-8142-744e767de826",
   "metadata": {},
   "outputs": [
    {
     "data": {
      "text/plain": [
       "array([10, 15, 20])"
      ]
     },
     "execution_count": 91,
     "metadata": {},
     "output_type": "execute_result"
    }
   ],
   "source": [
    "l = np.array(list)\n",
    "l"
   ]
  },
  {
   "cell_type": "code",
   "execution_count": 92,
   "id": "1134f6dd-6c0f-4114-bff8-0d4ad09dffbf",
   "metadata": {},
   "outputs": [
    {
     "data": {
      "text/plain": [
       "45"
      ]
     },
     "execution_count": 92,
     "metadata": {},
     "output_type": "execute_result"
    }
   ],
   "source": [
    "sum(l) # Sum python"
   ]
  },
  {
   "cell_type": "code",
   "execution_count": 93,
   "id": "9cd64995-5684-4095-a1dc-925e246645a7",
   "metadata": {},
   "outputs": [
    {
     "data": {
      "text/plain": [
       "45"
      ]
     },
     "execution_count": 93,
     "metadata": {},
     "output_type": "execute_result"
    }
   ],
   "source": [
    "np.sum(l)"
   ]
  },
  {
   "cell_type": "code",
   "execution_count": 98,
   "id": "aee5c12c-a6aa-4b83-9131-e03b8affc01b",
   "metadata": {},
   "outputs": [
    {
     "data": {
      "text/plain": [
       "(10000,)"
      ]
     },
     "execution_count": 98,
     "metadata": {},
     "output_type": "execute_result"
    }
   ],
   "source": [
    "#Tao mot array lớn\n",
    "massive_ar = np.random.random(10000)\n",
    "massive_ar[:10]\n",
    "massive_ar.shape"
   ]
  },
  {
   "cell_type": "markdown",
   "id": "a5cf5eb9-427e-4834-9f73-cae754210c6a",
   "metadata": {},
   "source": [
    "%timeit dùng để tính toán thời gian chạy chương trình"
   ]
  },
  {
   "cell_type": "code",
   "execution_count": 99,
   "id": "5ba0055a-d50d-4179-bdc6-4c651979dd28",
   "metadata": {},
   "outputs": [
    {
     "name": "stdout",
     "output_type": "stream",
     "text": [
      "767 μs ± 45.2 μs per loop (mean ± std. dev. of 7 runs, 1,000 loops each)\n"
     ]
    }
   ],
   "source": [
    "%timeit sum(massive_ar)"
   ]
  },
  {
   "cell_type": "code",
   "execution_count": 100,
   "id": "87ab933a-8e21-44f1-9126-bed9d2f89281",
   "metadata": {},
   "outputs": [
    {
     "name": "stdout",
     "output_type": "stream",
     "text": [
      "6.37 μs ± 205 ns per loop (mean ± std. dev. of 7 runs, 100,000 loops each)\n"
     ]
    }
   ],
   "source": [
    "%timeit np.sum(massive_ar)"
   ]
  },
  {
   "cell_type": "code",
   "execution_count": 103,
   "id": "efb15aa3-1788-4222-a536-df3f072aee0c",
   "metadata": {},
   "outputs": [
    {
     "data": {
      "text/plain": [
       "0.49908014202190215"
      ]
     },
     "execution_count": 103,
     "metadata": {},
     "output_type": "execute_result"
    }
   ],
   "source": [
    "np.mean(massive_ar) # Tính giá trị tb"
   ]
  },
  {
   "cell_type": "code",
   "execution_count": null,
   "id": "1bea55ef-edce-4c1f-af5e-b50f37d43fed",
   "metadata": {},
   "outputs": [],
   "source": []
  }
 ],
 "metadata": {
  "kernelspec": {
   "display_name": "Python 3 (ipykernel)",
   "language": "python",
   "name": "python3"
  },
  "language_info": {
   "codemirror_mode": {
    "name": "ipython",
    "version": 3
   },
   "file_extension": ".py",
   "mimetype": "text/x-python",
   "name": "python",
   "nbconvert_exporter": "python",
   "pygments_lexer": "ipython3",
   "version": "3.12.7"
  }
 },
 "nbformat": 4,
 "nbformat_minor": 5
}
