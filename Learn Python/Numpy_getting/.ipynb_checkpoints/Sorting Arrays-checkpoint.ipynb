{
 "cells": [
  {
   "cell_type": "code",
   "execution_count": 1,
   "id": "0a2c4ecb-9175-4fc6-984e-95b9e9fb63db",
   "metadata": {},
   "outputs": [],
   "source": [
    "import numpy as np"
   ]
  },
  {
   "cell_type": "markdown",
   "id": "60c07550-6ea7-4e01-bd3d-d71e4ed45771",
   "metadata": {},
   "source": [
    "np.sort uses an QUICKSORT algorithm"
   ]
  },
  {
   "cell_type": "code",
   "execution_count": 2,
   "id": "9bc1cf5c-a23a-4ac5-8e5c-eb0cf9bb9380",
   "metadata": {},
   "outputs": [],
   "source": [
    "x = np.array([2,1,10,3,5])"
   ]
  },
  {
   "cell_type": "code",
   "execution_count": 3,
   "id": "7ddbeba6-9b38-46d7-898d-85036a140d47",
   "metadata": {},
   "outputs": [
    {
     "data": {
      "text/plain": [
       "array([ 1,  2,  3,  5, 10])"
      ]
     },
     "execution_count": 3,
     "metadata": {},
     "output_type": "execute_result"
    }
   ],
   "source": [
    "np.sort(x)"
   ]
  },
  {
   "cell_type": "code",
   "execution_count": 4,
   "id": "9715ac82-9787-49c8-a232-e8f366a27870",
   "metadata": {},
   "outputs": [
    {
     "data": {
      "text/plain": [
       "array([1, 0, 3, 4, 2], dtype=int64)"
      ]
     },
     "execution_count": 4,
     "metadata": {},
     "output_type": "execute_result"
    }
   ],
   "source": [
    "#Func argsort\n",
    "np.argsort(x)"
   ]
  },
  {
   "cell_type": "code",
   "execution_count": 5,
   "id": "581d7447-281e-4b3a-a525-8456f4275941",
   "metadata": {},
   "outputs": [],
   "source": [
    "# Hiển thị Vị trí của các phần tử "
   ]
  },
  {
   "cell_type": "markdown",
   "id": "789071ac-141c-4457-9068-139184dc58ea",
   "metadata": {},
   "source": [
    "### Sorting along rows or columns Sắp xếp theo cột hoặc hàng"
   ]
  },
  {
   "cell_type": "code",
   "execution_count": 6,
   "id": "6f41b2fc-db63-40cf-b6fa-c7d93465caf1",
   "metadata": {},
   "outputs": [],
   "source": [
    "np.random.seed(42)\n",
    "matA = np.random.randint(0,10,size = (4,6))"
   ]
  },
  {
   "cell_type": "code",
   "execution_count": 7,
   "id": "58b05d30-8132-4d80-8f0a-b8a228aae8f8",
   "metadata": {},
   "outputs": [
    {
     "data": {
      "text/plain": [
       "array([[6, 3, 7, 4, 6, 9],\n",
       "       [2, 6, 7, 4, 3, 7],\n",
       "       [7, 2, 5, 4, 1, 7],\n",
       "       [5, 1, 4, 0, 9, 5]])"
      ]
     },
     "execution_count": 7,
     "metadata": {},
     "output_type": "execute_result"
    }
   ],
   "source": [
    "matA"
   ]
  },
  {
   "cell_type": "code",
   "execution_count": 8,
   "id": "425d3313-6557-4295-aee5-bf1644a1998f",
   "metadata": {},
   "outputs": [
    {
     "data": {
      "text/plain": [
       "array([[2, 1, 4, 0, 1, 5],\n",
       "       [5, 2, 5, 4, 3, 7],\n",
       "       [6, 3, 7, 4, 6, 7],\n",
       "       [7, 6, 7, 4, 9, 9]])"
      ]
     },
     "execution_count": 8,
     "metadata": {},
     "output_type": "execute_result"
    }
   ],
   "source": [
    "np.sort(matA, axis = 0)"
   ]
  },
  {
   "cell_type": "code",
   "execution_count": 9,
   "id": "6fb5d6ec-465e-4b3b-99f0-ca8ab7ec15b9",
   "metadata": {},
   "outputs": [
    {
     "data": {
      "text/plain": [
       "array([[3, 4, 6, 6, 7, 9],\n",
       "       [2, 3, 4, 6, 7, 7],\n",
       "       [1, 2, 4, 5, 7, 7],\n",
       "       [0, 1, 4, 5, 5, 9]])"
      ]
     },
     "execution_count": 9,
     "metadata": {},
     "output_type": "execute_result"
    }
   ],
   "source": [
    "np.sort(matA, axis = 1)"
   ]
  },
  {
   "cell_type": "code",
   "execution_count": null,
   "id": "98ab4622-4b7f-4e0e-925c-e02f6ebccd21",
   "metadata": {},
   "outputs": [],
   "source": []
  }
 ],
 "metadata": {
  "kernelspec": {
   "display_name": "Python 3 (ipykernel)",
   "language": "python",
   "name": "python3"
  },
  "language_info": {
   "codemirror_mode": {
    "name": "ipython",
    "version": 3
   },
   "file_extension": ".py",
   "mimetype": "text/x-python",
   "name": "python",
   "nbconvert_exporter": "python",
   "pygments_lexer": "ipython3",
   "version": "3.12.7"
  }
 },
 "nbformat": 4,
 "nbformat_minor": 5
}
